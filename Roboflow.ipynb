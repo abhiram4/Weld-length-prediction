{
  "nbformat": 4,
  "nbformat_minor": 0,
  "metadata": {
    "colab": {
      "provenance": [],
      "authorship_tag": "ABX9TyPeWBojMH5gZjXnpBXbxvBq"
    },
    "kernelspec": {
      "name": "python3",
      "display_name": "Python 3"
    },
    "language_info": {
      "name": "python"
    }
  },
  "cells": [
    {
      "cell_type": "code",
      "execution_count": null,
      "metadata": {
        "colab": {
          "base_uri": "https://localhost:8080/"
        },
        "id": "yTd4aVG3U8R5",
        "outputId": "ac227004-bb71-4764-f884-c417c6912095"
      },
      "outputs": [
        {
          "output_type": "stream",
          "name": "stdout",
          "text": [
            "Collecting roboflow\n",
            "  Downloading roboflow-1.1.49-py3-none-any.whl.metadata (9.7 kB)\n",
            "Requirement already satisfied: certifi in /usr/local/lib/python3.10/dist-packages (from roboflow) (2024.8.30)\n",
            "Collecting idna==3.7 (from roboflow)\n",
            "  Downloading idna-3.7-py3-none-any.whl.metadata (9.9 kB)\n",
            "Requirement already satisfied: cycler in /usr/local/lib/python3.10/dist-packages (from roboflow) (0.12.1)\n",
            "Requirement already satisfied: kiwisolver>=1.3.1 in /usr/local/lib/python3.10/dist-packages (from roboflow) (1.4.7)\n",
            "Requirement already satisfied: matplotlib in /usr/local/lib/python3.10/dist-packages (from roboflow) (3.8.0)\n",
            "Requirement already satisfied: numpy>=1.18.5 in /usr/local/lib/python3.10/dist-packages (from roboflow) (1.26.4)\n",
            "Requirement already satisfied: opencv-python-headless==4.10.0.84 in /usr/local/lib/python3.10/dist-packages (from roboflow) (4.10.0.84)\n",
            "Requirement already satisfied: Pillow>=7.1.2 in /usr/local/lib/python3.10/dist-packages (from roboflow) (11.0.0)\n",
            "Requirement already satisfied: python-dateutil in /usr/local/lib/python3.10/dist-packages (from roboflow) (2.8.2)\n",
            "Collecting python-dotenv (from roboflow)\n",
            "  Downloading python_dotenv-1.0.1-py3-none-any.whl.metadata (23 kB)\n",
            "Requirement already satisfied: requests in /usr/local/lib/python3.10/dist-packages (from roboflow) (2.32.3)\n",
            "Requirement already satisfied: six in /usr/local/lib/python3.10/dist-packages (from roboflow) (1.16.0)\n",
            "Requirement already satisfied: urllib3>=1.26.6 in /usr/local/lib/python3.10/dist-packages (from roboflow) (2.2.3)\n",
            "Requirement already satisfied: tqdm>=4.41.0 in /usr/local/lib/python3.10/dist-packages (from roboflow) (4.66.6)\n",
            "Requirement already satisfied: PyYAML>=5.3.1 in /usr/local/lib/python3.10/dist-packages (from roboflow) (6.0.2)\n",
            "Requirement already satisfied: requests-toolbelt in /usr/local/lib/python3.10/dist-packages (from roboflow) (1.0.0)\n",
            "Collecting filetype (from roboflow)\n",
            "  Downloading filetype-1.2.0-py2.py3-none-any.whl.metadata (6.5 kB)\n",
            "Requirement already satisfied: contourpy>=1.0.1 in /usr/local/lib/python3.10/dist-packages (from matplotlib->roboflow) (1.3.1)\n",
            "Requirement already satisfied: fonttools>=4.22.0 in /usr/local/lib/python3.10/dist-packages (from matplotlib->roboflow) (4.55.0)\n",
            "Requirement already satisfied: packaging>=20.0 in /usr/local/lib/python3.10/dist-packages (from matplotlib->roboflow) (24.2)\n",
            "Requirement already satisfied: pyparsing>=2.3.1 in /usr/local/lib/python3.10/dist-packages (from matplotlib->roboflow) (3.2.0)\n",
            "Requirement already satisfied: charset-normalizer<4,>=2 in /usr/local/lib/python3.10/dist-packages (from requests->roboflow) (3.4.0)\n",
            "Downloading roboflow-1.1.49-py3-none-any.whl (80 kB)\n",
            "\u001b[2K   \u001b[90m━━━━━━━━━━━━━━━━━━━━━━━━━━━━━━━━━━━━━━━━\u001b[0m \u001b[32m80.9/80.9 kB\u001b[0m \u001b[31m3.0 MB/s\u001b[0m eta \u001b[36m0:00:00\u001b[0m\n",
            "\u001b[?25hDownloading idna-3.7-py3-none-any.whl (66 kB)\n",
            "\u001b[2K   \u001b[90m━━━━━━━━━━━━━━━━━━━━━━━━━━━━━━━━━━━━━━━━\u001b[0m \u001b[32m66.8/66.8 kB\u001b[0m \u001b[31m3.5 MB/s\u001b[0m eta \u001b[36m0:00:00\u001b[0m\n",
            "\u001b[?25hDownloading filetype-1.2.0-py2.py3-none-any.whl (19 kB)\n",
            "Downloading python_dotenv-1.0.1-py3-none-any.whl (19 kB)\n",
            "Installing collected packages: filetype, python-dotenv, idna, roboflow\n",
            "  Attempting uninstall: idna\n",
            "    Found existing installation: idna 3.10\n",
            "    Uninstalling idna-3.10:\n",
            "      Successfully uninstalled idna-3.10\n",
            "Successfully installed filetype-1.2.0 idna-3.7 python-dotenv-1.0.1 roboflow-1.1.49\n"
          ]
        }
      ],
      "source": [
        "pip install roboflow\n"
      ]
    },
    {
      "cell_type": "code",
      "source": [
        "from roboflow import Roboflow\n",
        "import math\n",
        "\n",
        "# Roboflow setup\n",
        "rf = Roboflow(api_key=\"HSvdWoVcQ0H4zdWTiCTN\")\n",
        "project = rf.workspace().project(\"weld-dimension-prediction\")\n",
        "model = project.version(1).model  # Replace \"1\" with your model version\n",
        "\n",
        "# Infer on a test image\n",
        "test_image_path = \"/content/WIN_20240902_19_35_26_Pro.jpg\"  # Path to your test image\n",
        "segmentation_result = model.predict(test_image_path).json()\n",
        "\n",
        "# Save the annotated image for visualization\n",
        "model.predict(test_image_path).save(\"prediction.jpg\")\n"
      ],
      "metadata": {
        "colab": {
          "base_uri": "https://localhost:8080/"
        },
        "id": "F2bmgrEGVJPc",
        "outputId": "23664434-38d9-4d55-9e04-73d1c1e3d7ac"
      },
      "execution_count": null,
      "outputs": [
        {
          "output_type": "stream",
          "name": "stdout",
          "text": [
            "loading Roboflow workspace...\n",
            "loading Roboflow project...\n"
          ]
        }
      ]
    },
    {
      "cell_type": "code",
      "source": [
        "# Parse the segmentation results\n",
        "scale_polygon = None\n",
        "weld_polygon = None\n",
        "\n",
        "# Extract polygons for scale and weld\n",
        "for obj in segmentation_result[\"predictions\"]:\n",
        "    if obj[\"class\"] == \"scale\":\n",
        "        scale_polygon = obj[\"points\"]\n",
        "    elif obj[\"class\"] == \"weld\":\n",
        "        weld_polygon = obj[\"points\"]\n",
        "print(segmentation_result)\n",
        "\n"
      ],
      "metadata": {
        "colab": {
          "base_uri": "https://localhost:8080/"
        },
        "id": "TecxblPAWbw_",
        "outputId": "1f3c1b04-f923-4ec8-83b9-236011e8e060"
      },
      "execution_count": null,
      "outputs": [
        {
          "output_type": "stream",
          "name": "stdout",
          "text": [
            "{'predictions': [{'x': 1060.0, 'y': 664.0, 'width': 736.0, 'height': 76.0, 'confidence': 0.8819184303283691, 'class': 'ruler', 'points': [{'x': 696.0, 'y': 627.75}, {'x': 693.0, 'y': 629.4375}, {'x': 693.0, 'y': 686.8125}, {'x': 708.0, 'y': 686.8125}, {'x': 711.0, 'y': 688.5}, {'x': 723.0, 'y': 688.5}, {'x': 726.0, 'y': 690.1875}, {'x': 729.0, 'y': 690.1875}, {'x': 732.0, 'y': 691.875}, {'x': 753.0, 'y': 691.875}, {'x': 756.0, 'y': 693.5625}, {'x': 1143.0, 'y': 693.5625}, {'x': 1146.0, 'y': 695.25}, {'x': 1155.0, 'y': 695.25}, {'x': 1158.0, 'y': 696.9375}, {'x': 1161.0, 'y': 696.9375}, {'x': 1164.0, 'y': 698.625}, {'x': 1176.0, 'y': 698.625}, {'x': 1179.0, 'y': 700.3125}, {'x': 1422.0, 'y': 700.3125}, {'x': 1425.0, 'y': 698.625}, {'x': 1425.0, 'y': 644.625}, {'x': 1419.0, 'y': 641.25}, {'x': 1344.0, 'y': 641.25}, {'x': 1341.0, 'y': 639.5625}, {'x': 1314.0, 'y': 639.5625}, {'x': 1308.0, 'y': 636.1875}, {'x': 1311.0, 'y': 634.5}, {'x': 1320.0, 'y': 634.5}, {'x': 1323.0, 'y': 632.8125}, {'x': 1326.0, 'y': 632.8125}, {'x': 1329.0, 'y': 631.125}, {'x': 1329.0, 'y': 629.4375}, {'x': 1323.0, 'y': 629.4375}, {'x': 1320.0, 'y': 627.75}, {'x': 906.0, 'y': 627.75}, {'x': 903.0, 'y': 629.4375}, {'x': 870.0, 'y': 629.4375}, {'x': 867.0, 'y': 627.75}], 'class_id': 1, 'detection_id': '99b1198e-47f8-427b-aeb6-1d0bbf93d42d', 'image_path': '/content/WIN_20240902_19_35_26_Pro.jpg', 'prediction_type': 'InstanceSegmentationModel'}, {'x': 1145.5, 'y': 386.5, 'width': 423.0, 'height': 25.0, 'confidence': 0.7509021759033203, 'class': 'welds', 'points': [{'x': 951.0, 'y': 378.0}, {'x': 948.0, 'y': 379.6875}, {'x': 945.0, 'y': 379.6875}, {'x': 939.0, 'y': 383.0625}, {'x': 936.0, 'y': 383.0625}, {'x': 936.0, 'y': 393.1875}, {'x': 939.0, 'y': 393.1875}, {'x': 942.0, 'y': 394.875}, {'x': 945.0, 'y': 394.875}, {'x': 948.0, 'y': 396.5625}, {'x': 957.0, 'y': 396.5625}, {'x': 960.0, 'y': 398.25}, {'x': 1266.0, 'y': 398.25}, {'x': 1269.0, 'y': 396.5625}, {'x': 1356.0, 'y': 396.5625}, {'x': 1356.0, 'y': 379.6875}, {'x': 1341.0, 'y': 379.6875}, {'x': 1338.0, 'y': 378.0}], 'class_id': 2, 'detection_id': '7e5612f6-78ba-4858-92d4-516f69cc053c', 'image_path': '/content/WIN_20240902_19_35_26_Pro.jpg', 'prediction_type': 'InstanceSegmentationModel'}], 'image': {'width': '1920', 'height': '1080'}}\n"
          ]
        }
      ]
    },
    {
      "cell_type": "code",
      "source": [
        "# Extract the ruler (scale) and weld polygons\n",
        "ruler_polygon = next((obj[\"points\"] for obj in segmentation_result[\"predictions\"] if obj[\"class\"] == \"ruler\"), None)\n",
        "weld_polygon = next((obj[\"points\"] for obj in segmentation_result[\"predictions\"] if obj[\"class\"] == \"welds\"), None)\n",
        "\n",
        "if ruler_polygon is None or weld_polygon is None:\n",
        "    raise ValueError(\"Ruler or weld not detected in the segmentation output.\")\n",
        "\n",
        "# Helper function to calculate Euclidean distance\n",
        "def calculate_length(polygon):\n",
        "    x_coords = [point[\"x\"] for point in polygon]\n",
        "    y_coords = [point[\"y\"] for point in polygon]\n",
        "    return max(((x_coords[i] - x_coords[j]) ** 2 + (y_coords[i] - y_coords[j]) ** 2) ** 0.5 for i in range(len(polygon)) for j in range(i + 1, len(polygon)))\n",
        "\n",
        "# Calculate pixel lengths\n",
        "ruler_length_pixels = calculate_length(ruler_polygon)\n",
        "weld_length_pixels = calculate_length(weld_polygon)\n",
        "\n",
        "# Convert pixel length to cm using the real-life ruler length (31.5 cm)\n",
        "pixel_to_cm_ratio = 31.5 / ruler_length_pixels\n",
        "weld_length_cm = weld_length_pixels * pixel_to_cm_ratio\n",
        "\n",
        "print(f\"Weld length in cm: {weld_length_cm}\")\n"
      ],
      "metadata": {
        "colab": {
          "base_uri": "https://localhost:8080/"
        },
        "id": "pfJwiKEHasmI",
        "outputId": "b6669062-8b4d-436a-e5e1-1f185c6c1e15"
      },
      "execution_count": null,
      "outputs": [
        {
          "output_type": "stream",
          "name": "stdout",
          "text": [
            "Weld length in cm: 18.00286703570301\n"
          ]
        }
      ]
    }
  ]
}